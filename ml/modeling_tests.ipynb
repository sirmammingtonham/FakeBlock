{
 "metadata": {
  "language_info": {
   "codemirror_mode": {
    "name": "ipython",
    "version": 3
   },
   "file_extension": ".py",
   "mimetype": "text/x-python",
   "name": "python",
   "nbconvert_exporter": "python",
   "pygments_lexer": "ipython3",
   "version": "3.8.8-final"
  },
  "orig_nbformat": 2,
  "kernelspec": {
   "name": "python3",
   "display_name": "Python 3.8.8 64-bit",
   "metadata": {
    "interpreter": {
     "hash": "bfdb304a98aeb4aa268794ab61a59978aa3919e94f7cfa7faafe8d5950f876d5"
    }
   }
  }
 },
 "nbformat": 4,
 "nbformat_minor": 2,
 "cells": [
  {
   "cell_type": "code",
   "execution_count": 21,
   "metadata": {},
   "outputs": [],
   "source": [
    "import tensorflow as tf\n",
    "import numpy as np\n",
    "from transformers import AutoTokenizer\n",
    "from modeling.multi_output_distilbert import TFDistilBertForFakeNewsClassification"
   ]
  },
  {
   "cell_type": "code",
   "execution_count": 5,
   "metadata": {},
   "outputs": [],
   "source": [
    "tokenizer = AutoTokenizer.from_pretrained('./model')"
   ]
  },
  {
   "cell_type": "code",
   "execution_count": 12,
   "metadata": {},
   "outputs": [],
   "source": [
    "tokens = tokenizer(['Last year a mysterious shipment was caught smuggling Coronavirus from Canada. It was traced to Chinese agents working at a Canadian lab. Subsequent investigation by GreatGameIndia linked the agents to Chinese Biological Warfare Program from where the virus is suspected to have leaked causing the Wuhan Coronavirus outbreak.'], truncation=True, max_length=512, padding='max_length', return_tensors=\"tf\")"
   ]
  },
  {
   "cell_type": "code",
   "execution_count": 8,
   "metadata": {},
   "outputs": [
    {
     "output_type": "stream",
     "name": "stdout",
     "text": [
      "num aggregate labels:  3\n",
      "num category labels:  8\n",
      "All model checkpoint layers were used when initializing TFDistilBertForFakeNewsClassification.\n",
      "\n",
      "All the layers of TFDistilBertForFakeNewsClassification were initialized from the model checkpoint at ./model.\n",
      "If your task is similar to the task the model of the checkpoint was trained on, you can already use TFDistilBertForFakeNewsClassification for predictions without further training.\n"
     ]
    }
   ],
   "source": [
    "model = TFDistilBertForFakeNewsClassification.from_pretrained('./model', num_labels_aggregate=3,num_labels_category=8)"
   ]
  },
  {
   "cell_type": "code",
   "execution_count": 13,
   "metadata": {},
   "outputs": [],
   "source": [
    "output = model(tokens)"
   ]
  },
  {
   "cell_type": "code",
   "execution_count": 18,
   "metadata": {},
   "outputs": [
    {
     "output_type": "execute_result",
     "data": {
      "text/plain": [
       "<tf.Tensor: shape=(1, 3), dtype=float32, numpy=array([[-1.3524209, -1.2631007,  1.9145561]], dtype=float32)>"
      ]
     },
     "metadata": {},
     "execution_count": 18
    }
   ],
   "source": [
    "output.logits[0]"
   ]
  },
  {
   "cell_type": "code",
   "execution_count": 19,
   "metadata": {},
   "outputs": [],
   "source": [
    "aggregates = ['reliable', 'mixed', 'unreliable']\n",
    "categories = ['conspiracy_pseudoscience', 'least_biased', 'left_bias', 'left_center_bias', 'questionable_source', 'right_bias', 'right_center_bias', 'NA']\n",
    "def run(txt):\n",
    "    tokens = tokenizer(txt, truncation=True, max_length=512, padding='max_length', return_tensors=\"tf\")\n",
    "    output = model(tokens)\n",
    "    pred_aggregates = tf.nn.softmax(output.logits[0], axis=-1)\n",
    "    pred_categories = tf.nn.softmax(output.logits[1], axis=-1)\n",
    "    return aggregates[tf.argmax(pred_aggregates, axis=1)[0].numpy()], categories[tf.argmax(pred_categories, axis=1)[0].numpy()], "
   ]
  },
  {
   "cell_type": "code",
   "execution_count": 55,
   "metadata": {},
   "outputs": [
    {
     "output_type": "execute_result",
     "data": {
      "text/plain": [
       "('reliable', 'left_center_bias')"
      ]
     },
     "metadata": {},
     "execution_count": 55
    }
   ],
   "source": [
    "run('''@ @ @ @ @ @ @''')"
   ]
  },
  {
   "cell_type": "code",
   "execution_count": 40,
   "metadata": {},
   "outputs": [],
   "source": [
    "from datasets import load_from_disk"
   ]
  },
  {
   "cell_type": "code",
   "execution_count": 41,
   "metadata": {},
   "outputs": [],
   "source": [
    "data = load_from_disk('./datasets/NELA')"
   ]
  },
  {
   "cell_type": "code",
   "execution_count": 54,
   "metadata": {},
   "outputs": [
    {
     "output_type": "execute_result",
     "data": {
      "text/plain": [
       "{'id': 'zerohedge--2019-12-30--The European Auto Industry Is Racing To Ditch Diesel',\n",
       " 'date': '2019-12-30',\n",
       " 'source': 'zerohedge',\n",
       " 'title': 'The European Auto Industry Is Racing To Ditch Diesel',\n",
       " 'content': 'As if the downturn due to a trade-war-induced slowdown in China were not enough , the European automotive industry is facing the challenge of a rapid switch from diesel to petrol engines that has been gathering pace for the last two years .\\nAt the same time , the industry has also had to deal with the implementation of new legislation designed to reduce car makers ’ overall fleet emission levels .\\nAn article in the Financial Times explains the impact of the new legislation on Europe ’ s automakers , an industry that supports some 14 million workers across @ @ @ @ @ @ @ an auto analyst at Bernstein , the article says each carmaker faces its own CO2 target based on the weight of its vehicles .\\nA business selling smaller cars , such as PSA , therefore has a lower CO2 target than a company with a heavier average vehicle , such as Mercedes-Benz owner Daimler .\\nThe targets for each company vary from around 91 g/km to just over 100 g/km .\\nSome carmakers , like PSA , have already made good progress , switching less fuel-efficient , four-cylinder GM engines in their new @ @ @ @ @ @ @ has improved efficiency by some 21 percent .\\nHowever , carmakers like PSA do not have a lot of luxury saloons and SUVs in their lineup .\\nDaimler , BMW and JLR do , and the situation is made worse by a rise in sales of such vehicles in recent years .\\nEurope — once the home of the small , fuel-efficient compact — has fallen in love with the SUV .\\nSome 40 percent of cars sold in the E.U .\\nare now SUVs and automotive carbon emissions have , as a @ @ @ @ @ @ @ in a decade .\\nPotential fines for missing these new fleet emission limits are punishing , the FT states .\\nEvery gram over the target incurs a penalty of €95 — multiplied by the number of cars sold by the carmaker , the costs could be crippling .\\n“ It ’ s just stunning how much is going to have to be achieved in the next 18 to 24 months , ” Warburton is quoted as saying .\\nIf the industry sold exactly the same mix of vehicles in 2021 as it did @ @ @ @ @ @ @ penalties of €25 billion , the Financial Times reports .\\nThis comes on the back of 17 months of slowing car sales in China , Germany ’ s biggest auto export market , and the losses being sustained on the sale of every electric vehicle ( EV ) sold , such as they are .\\nEV sales in Europe have stalled without heavy subsidies : the buying public is , well , not buying .\\nRelatively higher prices and range anxiety , exacerbated by inadequate charging infrastructure and long charging times , are @ @ @ @ @ @ @ EV market is on the cusp of take-off .\\nEuropean carmakers are already reining back sales of luxury gas guzzlers like Mercedes AMG range in order to help meet the new targets , but those are by far the most profitable part of their range — putting overall company profitability under pressure .\\nJob losses , even in highly protected job markets like Germany where an axed position is estimated to cost the employer around €100,000 , are likely over the next 2-3 years .\\nA separate Financial Times article states in the @ @ @ @ @ @ @ million auto jobs will be lost in the country , quoting Ferdinand Dudenhöffer , the director of the Center for Automotive Research at the University of Duisburg-Essen .\\nThe article goes on to report German automakers and part suppliers , from Daimler and Audi to suppliers including Continental and Bosch , have already announced around 50,000 jobs will be lost or are at risk so far this year , as their traditional businesses become less profitable .\\nThis comes at a time of potentially crippling investment demands in the switch to EV production @ @ @ @ @ @ @ as battery plants .\\nThe Financial Times estimates the German car industry alone , which directly employs 830,000 people and supports a further 2 million in the wider economy , will be forced to plow some €40 billion into battery-powered technologies over the next three years .\\nJob losses so far have been limited by automakers ’ relative healthy profits this decade .\\nFrom 2020 onwards , however , the situation is set to deteriorate as overall profitability suffers .\\n“ No one will survive in the form they exist today , ” @ @ @ @ @ @ @ , who has spent 32 years advising German carmakers , is quoted as predicting .\\nThe E.U .\\nis making some concessions to limit the damage .\\nCarmakers will be measured on only 95 percent of their fleet in 2020 , giving them a little breathing space to continue selling their most-polluting — and often most-profitable — vehicles longer .\\nBut unlike the U.S. , European firms can not buy and sell credits , they can only pool overall fleet results with competitors , which naturally carries a cost .\\nUltimately , legislators @ @ @ @ @ @ @ solutions to redress the imbalance between what consumers want to buy and what manufacturers want to sell them .\\nThat will require a combination of penalties , incentives , investment and rapid technological innovation – a challenging and heady combination of demands to be met in the first half of the coming decade .',\n",
       " 'author': 'Tyler Durden',\n",
       " 'url': 'http://feedproxy.google.com/~r/zerohedge/feed/~3/RK3Yd72wG_4/european-auto-industry-racing-ditch-diesel',\n",
       " 'published': 'Mon, 30 Dec 2019 10:00:00 +0000',\n",
       " 'published_utc': 1577718000,\n",
       " 'collection_utc': 1577709549,\n",
       " 'aggregated_label': 2,\n",
       " 'Pew Research Center, known_by_40%': None,\n",
       " 'Pew Research Center, total': None,\n",
       " 'Pew Research Center, consistently_liberal': None,\n",
       " 'Pew Research Center, mostly_liberal': None,\n",
       " 'Pew Research Center, mixed': None,\n",
       " 'Pew Research Center, mostly conservative': None,\n",
       " 'Pew Research Center, consistently conservative': None,\n",
       " 'Wikipedia, is_fake': None,\n",
       " 'Open Sources, reliable': None,\n",
       " 'Open Sources, fake': None,\n",
       " 'Open Sources, unreliable': None,\n",
       " 'Open Sources, bias': None,\n",
       " 'Open Sources, conspiracy': None,\n",
       " 'Open Sources, hate': None,\n",
       " 'Open Sources, junksci': None,\n",
       " 'Open Sources, rumor': None,\n",
       " 'Open Sources, blog': None,\n",
       " 'Open Sources, clickbait': None,\n",
       " 'Open Sources, political': None,\n",
       " 'Open Sources, satire': None,\n",
       " 'Open Sources, state': None,\n",
       " 'Media Bias / Fact Check, label': 0,\n",
       " 'Media Bias / Fact Check, factual_reporting': 3,\n",
       " 'Media Bias / Fact Check, extreme_left': 0,\n",
       " 'Media Bias / Fact Check, right': 0,\n",
       " 'Media Bias / Fact Check, extreme_right': 1,\n",
       " 'Media Bias / Fact Check, propaganda': 0,\n",
       " 'Media Bias / Fact Check, fake_news': 0,\n",
       " 'Media Bias / Fact Check, some_fake_news': 1,\n",
       " 'Media Bias / Fact Check, failed_fact_checks': 1,\n",
       " 'Media Bias / Fact Check, conspiracy': 1,\n",
       " 'Media Bias / Fact Check, pseudoscience': 1,\n",
       " 'Media Bias / Fact Check, hate_group': 0,\n",
       " 'Media Bias / Fact Check, anti_islam': 0,\n",
       " 'Media Bias / Fact Check, nationalism': 0,\n",
       " 'Allsides, bias_rating': None,\n",
       " 'Allsides, community_agree': None,\n",
       " 'Allsides, community_disagree': None,\n",
       " 'Allsides, community_label': None,\n",
       " 'BuzzFeed, leaning': None,\n",
       " 'PolitiFact, Pants on Fire!': 0,\n",
       " 'PolitiFact, False': 1,\n",
       " 'PolitiFact, Mostly False': 1,\n",
       " 'PolitiFact, Half-True': 0,\n",
       " 'PolitiFact, Mostly True': 0,\n",
       " 'PolitiFact, True': 0,\n",
       " '__index_level_0__': 877566}"
      ]
     },
     "metadata": {},
     "execution_count": 54
    }
   ],
   "source": [
    "data['train'][8]"
   ]
  },
  {
   "cell_type": "code",
   "execution_count": null,
   "metadata": {},
   "outputs": [],
   "source": []
  }
 ]
}